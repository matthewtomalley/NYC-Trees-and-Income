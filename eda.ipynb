{
 "cells": [
  {
   "cell_type": "code",
   "execution_count": 1,
   "id": "0fb1dc1f",
   "metadata": {},
   "outputs": [],
   "source": [
    "import os\n",
    "import pandas as pd\n",
    "import chardet"
   ]
  },
  {
   "cell_type": "code",
   "execution_count": 2,
   "id": "f863a128",
   "metadata": {},
   "outputs": [
    {
     "data": {
      "text/plain": [
       "'/workspaces/Trees-and-Income'"
      ]
     },
     "execution_count": 2,
     "metadata": {},
     "output_type": "execute_result"
    }
   ],
   "source": [
    "os.getcwd()\n"
   ]
  },
  {
   "cell_type": "code",
   "execution_count": 3,
   "id": "16f33689",
   "metadata": {},
   "outputs": [],
   "source": [
    "# Loading data\n",
    "\n",
    "trees = pd.read_csv('data/raw/tree-census-NYC_2015.csv')\n",
    "\n",
    "income = pd.read_csv('data/raw/income-NYC_2015.csv')\n",
    "\n",
    "# species = pd.read_csv('data/raw/tree-species-nyc.csv')"
   ]
  },
  {
   "cell_type": "code",
   "execution_count": 4,
   "id": "968cece1",
   "metadata": {},
   "outputs": [
    {
     "data": {
      "text/plain": [
       "{'encoding': 'ISO-8859-1', 'confidence': 0.73, 'language': ''}"
      ]
     },
     "execution_count": 4,
     "metadata": {},
     "output_type": "execute_result"
    }
   ],
   "source": [
    "# Dealing with encoding issue in tree species data using chardet\n",
    "\n",
    "with open('data/raw/tree-species-nyc.csv', 'rb') as f:\n",
    "    result = chardet.detect(f.read())\n",
    "\n",
    "result"
   ]
  },
  {
   "cell_type": "code",
   "execution_count": 5,
   "id": "c82090b2",
   "metadata": {},
   "outputs": [],
   "source": [
    "species = pd.read_csv('data/raw/tree-species-nyc.csv', encoding=result['encoding'])"
   ]
  },
  {
   "cell_type": "code",
   "execution_count": 6,
   "id": "b301f443",
   "metadata": {},
   "outputs": [
    {
     "data": {
      "text/html": [
       "<div>\n",
       "<style scoped>\n",
       "    .dataframe tbody tr th:only-of-type {\n",
       "        vertical-align: middle;\n",
       "    }\n",
       "\n",
       "    .dataframe tbody tr th {\n",
       "        vertical-align: top;\n",
       "    }\n",
       "\n",
       "    .dataframe thead th {\n",
       "        text-align: right;\n",
       "    }\n",
       "</style>\n",
       "<table border=\"1\" class=\"dataframe\">\n",
       "  <thead>\n",
       "    <tr style=\"text-align: right;\">\n",
       "      <th></th>\n",
       "      <th>Unnamed: 0</th>\n",
       "      <th>tree_id</th>\n",
       "      <th>tree_dbh</th>\n",
       "      <th>stump_diam</th>\n",
       "      <th>status</th>\n",
       "      <th>health</th>\n",
       "      <th>spc_latin</th>\n",
       "      <th>spc_common</th>\n",
       "      <th>address</th>\n",
       "      <th>zipcode</th>\n",
       "      <th>borocode</th>\n",
       "      <th>boroname</th>\n",
       "      <th>nta_name</th>\n",
       "      <th>state</th>\n",
       "      <th>Latitude</th>\n",
       "      <th>longitude</th>\n",
       "    </tr>\n",
       "  </thead>\n",
       "  <tbody>\n",
       "    <tr>\n",
       "      <th>0</th>\n",
       "      <td>0</td>\n",
       "      <td>180683</td>\n",
       "      <td>3</td>\n",
       "      <td>0</td>\n",
       "      <td>Alive</td>\n",
       "      <td>Fair</td>\n",
       "      <td>Acer rubrum</td>\n",
       "      <td>red maple</td>\n",
       "      <td>108-005 70 AVENUE</td>\n",
       "      <td>11375</td>\n",
       "      <td>4</td>\n",
       "      <td>Queens</td>\n",
       "      <td>Forest Hills</td>\n",
       "      <td>New York</td>\n",
       "      <td>40.723092</td>\n",
       "      <td>-73.844215</td>\n",
       "    </tr>\n",
       "    <tr>\n",
       "      <th>1</th>\n",
       "      <td>1</td>\n",
       "      <td>200540</td>\n",
       "      <td>21</td>\n",
       "      <td>0</td>\n",
       "      <td>Alive</td>\n",
       "      <td>Fair</td>\n",
       "      <td>Quercus palustris</td>\n",
       "      <td>pin oak</td>\n",
       "      <td>147-074 7 AVENUE</td>\n",
       "      <td>11357</td>\n",
       "      <td>4</td>\n",
       "      <td>Queens</td>\n",
       "      <td>Whitestone</td>\n",
       "      <td>New York</td>\n",
       "      <td>40.794111</td>\n",
       "      <td>-73.818679</td>\n",
       "    </tr>\n",
       "    <tr>\n",
       "      <th>2</th>\n",
       "      <td>2</td>\n",
       "      <td>204026</td>\n",
       "      <td>3</td>\n",
       "      <td>0</td>\n",
       "      <td>Alive</td>\n",
       "      <td>Good</td>\n",
       "      <td>Gleditsia triacanthos var. inermis</td>\n",
       "      <td>honeylocust</td>\n",
       "      <td>390 MORGAN AVENUE</td>\n",
       "      <td>11211</td>\n",
       "      <td>3</td>\n",
       "      <td>Brooklyn</td>\n",
       "      <td>East Williamsburg</td>\n",
       "      <td>New York</td>\n",
       "      <td>40.717581</td>\n",
       "      <td>-73.936608</td>\n",
       "    </tr>\n",
       "    <tr>\n",
       "      <th>3</th>\n",
       "      <td>3</td>\n",
       "      <td>204337</td>\n",
       "      <td>10</td>\n",
       "      <td>0</td>\n",
       "      <td>Alive</td>\n",
       "      <td>Good</td>\n",
       "      <td>Gleditsia triacanthos var. inermis</td>\n",
       "      <td>honeylocust</td>\n",
       "      <td>1027 GRAND STREET</td>\n",
       "      <td>11211</td>\n",
       "      <td>3</td>\n",
       "      <td>Brooklyn</td>\n",
       "      <td>East Williamsburg</td>\n",
       "      <td>New York</td>\n",
       "      <td>40.713537</td>\n",
       "      <td>-73.934456</td>\n",
       "    </tr>\n",
       "    <tr>\n",
       "      <th>4</th>\n",
       "      <td>4</td>\n",
       "      <td>189565</td>\n",
       "      <td>21</td>\n",
       "      <td>0</td>\n",
       "      <td>Alive</td>\n",
       "      <td>Good</td>\n",
       "      <td>Tilia americana</td>\n",
       "      <td>American linden</td>\n",
       "      <td>603 6 STREET</td>\n",
       "      <td>11215</td>\n",
       "      <td>3</td>\n",
       "      <td>Brooklyn</td>\n",
       "      <td>Park Slope-Gowanus</td>\n",
       "      <td>New York</td>\n",
       "      <td>40.666778</td>\n",
       "      <td>-73.975979</td>\n",
       "    </tr>\n",
       "  </tbody>\n",
       "</table>\n",
       "</div>"
      ],
      "text/plain": [
       "   Unnamed: 0  tree_id  tree_dbh  stump_diam status health  \\\n",
       "0           0   180683         3           0  Alive   Fair   \n",
       "1           1   200540        21           0  Alive   Fair   \n",
       "2           2   204026         3           0  Alive   Good   \n",
       "3           3   204337        10           0  Alive   Good   \n",
       "4           4   189565        21           0  Alive   Good   \n",
       "\n",
       "                            spc_latin       spc_common            address  \\\n",
       "0                         Acer rubrum        red maple  108-005 70 AVENUE   \n",
       "1                   Quercus palustris          pin oak   147-074 7 AVENUE   \n",
       "2  Gleditsia triacanthos var. inermis      honeylocust  390 MORGAN AVENUE   \n",
       "3  Gleditsia triacanthos var. inermis      honeylocust  1027 GRAND STREET   \n",
       "4                     Tilia americana  American linden       603 6 STREET   \n",
       "\n",
       "   zipcode  borocode  boroname            nta_name     state   Latitude  \\\n",
       "0    11375         4    Queens        Forest Hills  New York  40.723092   \n",
       "1    11357         4    Queens          Whitestone  New York  40.794111   \n",
       "2    11211         3  Brooklyn   East Williamsburg  New York  40.717581   \n",
       "3    11211         3  Brooklyn   East Williamsburg  New York  40.713537   \n",
       "4    11215         3  Brooklyn  Park Slope-Gowanus  New York  40.666778   \n",
       "\n",
       "   longitude  \n",
       "0 -73.844215  \n",
       "1 -73.818679  \n",
       "2 -73.936608  \n",
       "3 -73.934456  \n",
       "4 -73.975979  "
      ]
     },
     "execution_count": 6,
     "metadata": {},
     "output_type": "execute_result"
    }
   ],
   "source": [
    "trees.head()"
   ]
  },
  {
   "cell_type": "code",
   "execution_count": 7,
   "id": "ad3d87d8",
   "metadata": {},
   "outputs": [
    {
     "data": {
      "text/html": [
       "<div>\n",
       "<style scoped>\n",
       "    .dataframe tbody tr th:only-of-type {\n",
       "        vertical-align: middle;\n",
       "    }\n",
       "\n",
       "    .dataframe tbody tr th {\n",
       "        vertical-align: top;\n",
       "    }\n",
       "\n",
       "    .dataframe thead th {\n",
       "        text-align: right;\n",
       "    }\n",
       "</style>\n",
       "<table border=\"1\" class=\"dataframe\">\n",
       "  <thead>\n",
       "    <tr style=\"text-align: right;\">\n",
       "      <th></th>\n",
       "      <th>GEO_ID</th>\n",
       "      <th>zipcode</th>\n",
       "      <th>HouseholdsEstimateTotal</th>\n",
       "      <th>HouseholdsMargin of ErrorTotal</th>\n",
       "      <th>HouseholdsEstimateMedian income (dollars)</th>\n",
       "      <th>HouseholdsMargin of ErrorMedian income (dollars)</th>\n",
       "      <th>HouseholdsEstimateMean income (dollars)</th>\n",
       "      <th>HouseholdsMargin of ErrorMean income (dollars)</th>\n",
       "    </tr>\n",
       "  </thead>\n",
       "  <tbody>\n",
       "    <tr>\n",
       "      <th>0</th>\n",
       "      <td>8600000US10451</td>\n",
       "      <td>10451</td>\n",
       "      <td>18140</td>\n",
       "      <td>405</td>\n",
       "      <td>26048</td>\n",
       "      <td>2140.0</td>\n",
       "      <td>40836.0</td>\n",
       "      <td>3424.0</td>\n",
       "    </tr>\n",
       "    <tr>\n",
       "      <th>1</th>\n",
       "      <td>8600000US10452</td>\n",
       "      <td>10452</td>\n",
       "      <td>25432</td>\n",
       "      <td>368</td>\n",
       "      <td>24790</td>\n",
       "      <td>1337.0</td>\n",
       "      <td>36083.0</td>\n",
       "      <td>1578.0</td>\n",
       "    </tr>\n",
       "    <tr>\n",
       "      <th>2</th>\n",
       "      <td>8600000US10453</td>\n",
       "      <td>10453</td>\n",
       "      <td>26802</td>\n",
       "      <td>409</td>\n",
       "      <td>23095</td>\n",
       "      <td>1605.0</td>\n",
       "      <td>33354.0</td>\n",
       "      <td>1416.0</td>\n",
       "    </tr>\n",
       "    <tr>\n",
       "      <th>3</th>\n",
       "      <td>8600000US10454</td>\n",
       "      <td>10454</td>\n",
       "      <td>12790</td>\n",
       "      <td>247</td>\n",
       "      <td>20210</td>\n",
       "      <td>1930.0</td>\n",
       "      <td>31533.0</td>\n",
       "      <td>2272.0</td>\n",
       "    </tr>\n",
       "    <tr>\n",
       "      <th>4</th>\n",
       "      <td>8600000US10455</td>\n",
       "      <td>10455</td>\n",
       "      <td>14023</td>\n",
       "      <td>329</td>\n",
       "      <td>23253</td>\n",
       "      <td>1598.0</td>\n",
       "      <td>32854.0</td>\n",
       "      <td>2127.0</td>\n",
       "    </tr>\n",
       "  </tbody>\n",
       "</table>\n",
       "</div>"
      ],
      "text/plain": [
       "           GEO_ID  zipcode  HouseholdsEstimateTotal  \\\n",
       "0  8600000US10451    10451                    18140   \n",
       "1  8600000US10452    10452                    25432   \n",
       "2  8600000US10453    10453                    26802   \n",
       "3  8600000US10454    10454                    12790   \n",
       "4  8600000US10455    10455                    14023   \n",
       "\n",
       "   HouseholdsMargin of ErrorTotal HouseholdsEstimateMedian income (dollars)  \\\n",
       "0                             405                                     26048   \n",
       "1                             368                                     24790   \n",
       "2                             409                                     23095   \n",
       "3                             247                                     20210   \n",
       "4                             329                                     23253   \n",
       "\n",
       "   HouseholdsMargin of ErrorMedian income (dollars)  \\\n",
       "0                                            2140.0   \n",
       "1                                            1337.0   \n",
       "2                                            1605.0   \n",
       "3                                            1930.0   \n",
       "4                                            1598.0   \n",
       "\n",
       "   HouseholdsEstimateMean income (dollars)  \\\n",
       "0                                  40836.0   \n",
       "1                                  36083.0   \n",
       "2                                  33354.0   \n",
       "3                                  31533.0   \n",
       "4                                  32854.0   \n",
       "\n",
       "   HouseholdsMargin of ErrorMean income (dollars)  \n",
       "0                                          3424.0  \n",
       "1                                          1578.0  \n",
       "2                                          1416.0  \n",
       "3                                          2272.0  \n",
       "4                                          2127.0  "
      ]
     },
     "execution_count": 7,
     "metadata": {},
     "output_type": "execute_result"
    }
   ],
   "source": [
    "income.head()"
   ]
  },
  {
   "cell_type": "code",
   "execution_count": 8,
   "id": "a9f52128",
   "metadata": {},
   "outputs": [
    {
     "data": {
      "text/html": [
       "<div>\n",
       "<style scoped>\n",
       "    .dataframe tbody tr th:only-of-type {\n",
       "        vertical-align: middle;\n",
       "    }\n",
       "\n",
       "    .dataframe tbody tr th {\n",
       "        vertical-align: top;\n",
       "    }\n",
       "\n",
       "    .dataframe thead th {\n",
       "        text-align: right;\n",
       "    }\n",
       "</style>\n",
       "<table border=\"1\" class=\"dataframe\">\n",
       "  <thead>\n",
       "    <tr style=\"text-align: right;\">\n",
       "      <th></th>\n",
       "      <th>Scientific name</th>\n",
       "      <th>Common name</th>\n",
       "      <th>Photo</th>\n",
       "      <th>Size</th>\n",
       "      <th>Native Species</th>\n",
       "      <th>Planted in NYC streets</th>\n",
       "      <th>Edible fruit</th>\n",
       "    </tr>\n",
       "  </thead>\n",
       "  <tbody>\n",
       "    <tr>\n",
       "      <th>0</th>\n",
       "      <td>Acer platanoides</td>\n",
       "      <td>Norway maple</td>\n",
       "      <td>NaN</td>\n",
       "      <td>Large</td>\n",
       "      <td>Non-Native, Invasive[6]</td>\n",
       "      <td>Yes, Approved</td>\n",
       "      <td>No</td>\n",
       "    </tr>\n",
       "    <tr>\n",
       "      <th>1</th>\n",
       "      <td>Acer rubrum</td>\n",
       "      <td>Red maple</td>\n",
       "      <td>NaN</td>\n",
       "      <td>Large</td>\n",
       "      <td>Native</td>\n",
       "      <td>Yes</td>\n",
       "      <td>NaN</td>\n",
       "    </tr>\n",
       "    <tr>\n",
       "      <th>2</th>\n",
       "      <td>Acer saccharinum</td>\n",
       "      <td>Silver maple</td>\n",
       "      <td>NaN</td>\n",
       "      <td>Large</td>\n",
       "      <td>Native</td>\n",
       "      <td>Yes</td>\n",
       "      <td>NaN</td>\n",
       "    </tr>\n",
       "    <tr>\n",
       "      <th>3</th>\n",
       "      <td>Aesculus hippocastanum</td>\n",
       "      <td>Horse-chestnut</td>\n",
       "      <td>NaN</td>\n",
       "      <td>Large</td>\n",
       "      <td>Non-Native</td>\n",
       "      <td>Yes</td>\n",
       "      <td>NaN</td>\n",
       "    </tr>\n",
       "    <tr>\n",
       "      <th>4</th>\n",
       "      <td>Aesculus octandra</td>\n",
       "      <td>Common buckeye</td>\n",
       "      <td>NaN</td>\n",
       "      <td>Large</td>\n",
       "      <td>Native</td>\n",
       "      <td>Yes</td>\n",
       "      <td>NaN</td>\n",
       "    </tr>\n",
       "  </tbody>\n",
       "</table>\n",
       "</div>"
      ],
      "text/plain": [
       "          Scientific name     Common name  Photo   Size  \\\n",
       "0        Acer platanoides    Norway maple    NaN  Large   \n",
       "1             Acer rubrum       Red maple    NaN  Large   \n",
       "2        Acer saccharinum    Silver maple    NaN  Large   \n",
       "3  Aesculus hippocastanum  Horse-chestnut    NaN  Large   \n",
       "4       Aesculus octandra  Common buckeye    NaN  Large   \n",
       "\n",
       "            Native Species Planted in NYC streets Edible fruit  \n",
       "0  Non-Native, Invasive[6]          Yes, Approved           No  \n",
       "1                   Native                    Yes          NaN  \n",
       "2                   Native                    Yes          NaN  \n",
       "3               Non-Native                    Yes          NaN  \n",
       "4                   Native                    Yes          NaN  "
      ]
     },
     "execution_count": 8,
     "metadata": {},
     "output_type": "execute_result"
    }
   ],
   "source": [
    "species.head()\n"
   ]
  },
  {
   "cell_type": "markdown",
   "id": "adfa5c2a",
   "metadata": {},
   "source": [
    "# Cleaning trees"
   ]
  },
  {
   "cell_type": "code",
   "execution_count": 9,
   "id": "ac55f859",
   "metadata": {},
   "outputs": [
    {
     "data": {
      "text/plain": [
       "['Unnamed: 0',\n",
       " 'tree_id',\n",
       " 'tree_dbh',\n",
       " 'stump_diam',\n",
       " 'status',\n",
       " 'health',\n",
       " 'spc_latin',\n",
       " 'spc_common',\n",
       " 'address',\n",
       " 'zipcode',\n",
       " 'borocode',\n",
       " 'boroname',\n",
       " 'nta_name',\n",
       " 'state',\n",
       " 'Latitude',\n",
       " 'longitude']"
      ]
     },
     "execution_count": 9,
     "metadata": {},
     "output_type": "execute_result"
    }
   ],
   "source": [
    "trees.columns.tolist()"
   ]
  },
  {
   "cell_type": "code",
   "execution_count": 33,
   "id": "8452fb04",
   "metadata": {},
   "outputs": [
    {
     "data": {
      "text/html": [
       "<div>\n",
       "<style scoped>\n",
       "    .dataframe tbody tr th:only-of-type {\n",
       "        vertical-align: middle;\n",
       "    }\n",
       "\n",
       "    .dataframe tbody tr th {\n",
       "        vertical-align: top;\n",
       "    }\n",
       "\n",
       "    .dataframe thead th {\n",
       "        text-align: right;\n",
       "    }\n",
       "</style>\n",
       "<table border=\"1\" class=\"dataframe\">\n",
       "  <thead>\n",
       "    <tr style=\"text-align: right;\">\n",
       "      <th></th>\n",
       "      <th>tree_id</th>\n",
       "      <th>trunk_diam</th>\n",
       "      <th>stump_diam</th>\n",
       "      <th>status</th>\n",
       "      <th>health</th>\n",
       "      <th>spc_latin</th>\n",
       "      <th>spc_common</th>\n",
       "      <th>address</th>\n",
       "      <th>zipcode</th>\n",
       "      <th>borough</th>\n",
       "      <th>neighborhood</th>\n",
       "      <th>latitude</th>\n",
       "      <th>longitude</th>\n",
       "    </tr>\n",
       "  </thead>\n",
       "  <tbody>\n",
       "    <tr>\n",
       "      <th>0</th>\n",
       "      <td>180683</td>\n",
       "      <td>3</td>\n",
       "      <td>0</td>\n",
       "      <td>Alive</td>\n",
       "      <td>Fair</td>\n",
       "      <td>Acer rubrum</td>\n",
       "      <td>red maple</td>\n",
       "      <td>108-005 70 AVENUE</td>\n",
       "      <td>11375</td>\n",
       "      <td>Queens</td>\n",
       "      <td>Forest Hills</td>\n",
       "      <td>40.723092</td>\n",
       "      <td>-73.844215</td>\n",
       "    </tr>\n",
       "    <tr>\n",
       "      <th>1</th>\n",
       "      <td>200540</td>\n",
       "      <td>21</td>\n",
       "      <td>0</td>\n",
       "      <td>Alive</td>\n",
       "      <td>Fair</td>\n",
       "      <td>Quercus palustris</td>\n",
       "      <td>pin oak</td>\n",
       "      <td>147-074 7 AVENUE</td>\n",
       "      <td>11357</td>\n",
       "      <td>Queens</td>\n",
       "      <td>Whitestone</td>\n",
       "      <td>40.794111</td>\n",
       "      <td>-73.818679</td>\n",
       "    </tr>\n",
       "    <tr>\n",
       "      <th>2</th>\n",
       "      <td>204026</td>\n",
       "      <td>3</td>\n",
       "      <td>0</td>\n",
       "      <td>Alive</td>\n",
       "      <td>Good</td>\n",
       "      <td>Gleditsia triacanthos var. inermis</td>\n",
       "      <td>honeylocust</td>\n",
       "      <td>390 MORGAN AVENUE</td>\n",
       "      <td>11211</td>\n",
       "      <td>Brooklyn</td>\n",
       "      <td>East Williamsburg</td>\n",
       "      <td>40.717581</td>\n",
       "      <td>-73.936608</td>\n",
       "    </tr>\n",
       "    <tr>\n",
       "      <th>3</th>\n",
       "      <td>204337</td>\n",
       "      <td>10</td>\n",
       "      <td>0</td>\n",
       "      <td>Alive</td>\n",
       "      <td>Good</td>\n",
       "      <td>Gleditsia triacanthos var. inermis</td>\n",
       "      <td>honeylocust</td>\n",
       "      <td>1027 GRAND STREET</td>\n",
       "      <td>11211</td>\n",
       "      <td>Brooklyn</td>\n",
       "      <td>East Williamsburg</td>\n",
       "      <td>40.713537</td>\n",
       "      <td>-73.934456</td>\n",
       "    </tr>\n",
       "    <tr>\n",
       "      <th>4</th>\n",
       "      <td>189565</td>\n",
       "      <td>21</td>\n",
       "      <td>0</td>\n",
       "      <td>Alive</td>\n",
       "      <td>Good</td>\n",
       "      <td>Tilia americana</td>\n",
       "      <td>American linden</td>\n",
       "      <td>603 6 STREET</td>\n",
       "      <td>11215</td>\n",
       "      <td>Brooklyn</td>\n",
       "      <td>Park Slope-Gowanus</td>\n",
       "      <td>40.666778</td>\n",
       "      <td>-73.975979</td>\n",
       "    </tr>\n",
       "  </tbody>\n",
       "</table>\n",
       "</div>"
      ],
      "text/plain": [
       "   tree_id  trunk_diam  stump_diam status health  \\\n",
       "0   180683           3           0  Alive   Fair   \n",
       "1   200540          21           0  Alive   Fair   \n",
       "2   204026           3           0  Alive   Good   \n",
       "3   204337          10           0  Alive   Good   \n",
       "4   189565          21           0  Alive   Good   \n",
       "\n",
       "                            spc_latin       spc_common            address  \\\n",
       "0                         Acer rubrum        red maple  108-005 70 AVENUE   \n",
       "1                   Quercus palustris          pin oak   147-074 7 AVENUE   \n",
       "2  Gleditsia triacanthos var. inermis      honeylocust  390 MORGAN AVENUE   \n",
       "3  Gleditsia triacanthos var. inermis      honeylocust  1027 GRAND STREET   \n",
       "4                     Tilia americana  American linden       603 6 STREET   \n",
       "\n",
       "   zipcode   borough        neighborhood   latitude  longitude  \n",
       "0    11375    Queens        Forest Hills  40.723092 -73.844215  \n",
       "1    11357    Queens          Whitestone  40.794111 -73.818679  \n",
       "2    11211  Brooklyn   East Williamsburg  40.717581 -73.936608  \n",
       "3    11211  Brooklyn   East Williamsburg  40.713537 -73.934456  \n",
       "4    11215  Brooklyn  Park Slope-Gowanus  40.666778 -73.975979  "
      ]
     },
     "execution_count": 33,
     "metadata": {},
     "output_type": "execute_result"
    }
   ],
   "source": [
    "# Renaming some columns\n",
    "\n",
    "mapper = {\n",
    " 'tree_dbh':'trunk_diam',\n",
    " 'boroname':'borough',\n",
    " 'nta_name':'neighborhood',\n",
    " 'Latitude':'latitude'\n",
    "}\n",
    "\n",
    "trees = trees.rename(columns=mapper)\n",
    "\n",
    "trees.head()"
   ]
  },
  {
   "cell_type": "code",
   "execution_count": 11,
   "id": "4c086cec",
   "metadata": {},
   "outputs": [
    {
     "data": {
      "text/plain": [
       "state\n",
       "New York    683788\n",
       "Name: count, dtype: int64"
      ]
     },
     "execution_count": 11,
     "metadata": {},
     "output_type": "execute_result"
    }
   ],
   "source": [
    "trees['state'].value_counts()"
   ]
  },
  {
   "cell_type": "code",
   "execution_count": 12,
   "id": "c9a7e984",
   "metadata": {},
   "outputs": [
    {
     "data": {
      "text/html": [
       "<div>\n",
       "<style scoped>\n",
       "    .dataframe tbody tr th:only-of-type {\n",
       "        vertical-align: middle;\n",
       "    }\n",
       "\n",
       "    .dataframe tbody tr th {\n",
       "        vertical-align: top;\n",
       "    }\n",
       "\n",
       "    .dataframe thead th {\n",
       "        text-align: right;\n",
       "    }\n",
       "</style>\n",
       "<table border=\"1\" class=\"dataframe\">\n",
       "  <thead>\n",
       "    <tr style=\"text-align: right;\">\n",
       "      <th></th>\n",
       "      <th>tree_id</th>\n",
       "      <th>trunk_diam</th>\n",
       "      <th>stump_diam</th>\n",
       "      <th>status</th>\n",
       "      <th>health</th>\n",
       "      <th>spc_latin</th>\n",
       "      <th>spc_common</th>\n",
       "      <th>address</th>\n",
       "      <th>zipcode</th>\n",
       "      <th>boroname</th>\n",
       "      <th>neighborhood</th>\n",
       "      <th>latitude</th>\n",
       "      <th>longitude</th>\n",
       "    </tr>\n",
       "  </thead>\n",
       "  <tbody>\n",
       "    <tr>\n",
       "      <th>0</th>\n",
       "      <td>180683</td>\n",
       "      <td>3</td>\n",
       "      <td>0</td>\n",
       "      <td>Alive</td>\n",
       "      <td>Fair</td>\n",
       "      <td>Acer rubrum</td>\n",
       "      <td>red maple</td>\n",
       "      <td>108-005 70 AVENUE</td>\n",
       "      <td>11375</td>\n",
       "      <td>Queens</td>\n",
       "      <td>Forest Hills</td>\n",
       "      <td>40.723092</td>\n",
       "      <td>-73.844215</td>\n",
       "    </tr>\n",
       "    <tr>\n",
       "      <th>1</th>\n",
       "      <td>200540</td>\n",
       "      <td>21</td>\n",
       "      <td>0</td>\n",
       "      <td>Alive</td>\n",
       "      <td>Fair</td>\n",
       "      <td>Quercus palustris</td>\n",
       "      <td>pin oak</td>\n",
       "      <td>147-074 7 AVENUE</td>\n",
       "      <td>11357</td>\n",
       "      <td>Queens</td>\n",
       "      <td>Whitestone</td>\n",
       "      <td>40.794111</td>\n",
       "      <td>-73.818679</td>\n",
       "    </tr>\n",
       "    <tr>\n",
       "      <th>2</th>\n",
       "      <td>204026</td>\n",
       "      <td>3</td>\n",
       "      <td>0</td>\n",
       "      <td>Alive</td>\n",
       "      <td>Good</td>\n",
       "      <td>Gleditsia triacanthos var. inermis</td>\n",
       "      <td>honeylocust</td>\n",
       "      <td>390 MORGAN AVENUE</td>\n",
       "      <td>11211</td>\n",
       "      <td>Brooklyn</td>\n",
       "      <td>East Williamsburg</td>\n",
       "      <td>40.717581</td>\n",
       "      <td>-73.936608</td>\n",
       "    </tr>\n",
       "    <tr>\n",
       "      <th>3</th>\n",
       "      <td>204337</td>\n",
       "      <td>10</td>\n",
       "      <td>0</td>\n",
       "      <td>Alive</td>\n",
       "      <td>Good</td>\n",
       "      <td>Gleditsia triacanthos var. inermis</td>\n",
       "      <td>honeylocust</td>\n",
       "      <td>1027 GRAND STREET</td>\n",
       "      <td>11211</td>\n",
       "      <td>Brooklyn</td>\n",
       "      <td>East Williamsburg</td>\n",
       "      <td>40.713537</td>\n",
       "      <td>-73.934456</td>\n",
       "    </tr>\n",
       "    <tr>\n",
       "      <th>4</th>\n",
       "      <td>189565</td>\n",
       "      <td>21</td>\n",
       "      <td>0</td>\n",
       "      <td>Alive</td>\n",
       "      <td>Good</td>\n",
       "      <td>Tilia americana</td>\n",
       "      <td>American linden</td>\n",
       "      <td>603 6 STREET</td>\n",
       "      <td>11215</td>\n",
       "      <td>Brooklyn</td>\n",
       "      <td>Park Slope-Gowanus</td>\n",
       "      <td>40.666778</td>\n",
       "      <td>-73.975979</td>\n",
       "    </tr>\n",
       "  </tbody>\n",
       "</table>\n",
       "</div>"
      ],
      "text/plain": [
       "   tree_id  trunk_diam  stump_diam status health  \\\n",
       "0   180683           3           0  Alive   Fair   \n",
       "1   200540          21           0  Alive   Fair   \n",
       "2   204026           3           0  Alive   Good   \n",
       "3   204337          10           0  Alive   Good   \n",
       "4   189565          21           0  Alive   Good   \n",
       "\n",
       "                            spc_latin       spc_common            address  \\\n",
       "0                         Acer rubrum        red maple  108-005 70 AVENUE   \n",
       "1                   Quercus palustris          pin oak   147-074 7 AVENUE   \n",
       "2  Gleditsia triacanthos var. inermis      honeylocust  390 MORGAN AVENUE   \n",
       "3  Gleditsia triacanthos var. inermis      honeylocust  1027 GRAND STREET   \n",
       "4                     Tilia americana  American linden       603 6 STREET   \n",
       "\n",
       "   zipcode  boroname        neighborhood   latitude  longitude  \n",
       "0    11375    Queens        Forest Hills  40.723092 -73.844215  \n",
       "1    11357    Queens          Whitestone  40.794111 -73.818679  \n",
       "2    11211  Brooklyn   East Williamsburg  40.717581 -73.936608  \n",
       "3    11211  Brooklyn   East Williamsburg  40.713537 -73.934456  \n",
       "4    11215  Brooklyn  Park Slope-Gowanus  40.666778 -73.975979  "
      ]
     },
     "execution_count": 12,
     "metadata": {},
     "output_type": "execute_result"
    }
   ],
   "source": [
    "cols_to_drop = [\n",
    "    'Unnamed: 0',\n",
    "    'borocode',\n",
    "    'state'\n",
    "    ]\n",
    "\n",
    "trees = trees.drop(cols_to_drop, axis=1)\n",
    "\n",
    "trees.head()"
   ]
  },
  {
   "cell_type": "code",
   "execution_count": 13,
   "id": "cbc5d0bc",
   "metadata": {},
   "outputs": [
    {
     "data": {
      "text/plain": [
       "(683788, 13)"
      ]
     },
     "execution_count": 13,
     "metadata": {},
     "output_type": "execute_result"
    }
   ],
   "source": [
    "trees.shape"
   ]
  },
  {
   "cell_type": "code",
   "execution_count": 14,
   "id": "a1836a7e",
   "metadata": {},
   "outputs": [
    {
     "name": "stdout",
     "output_type": "stream",
     "text": [
      "<class 'pandas.core.frame.DataFrame'>\n",
      "RangeIndex: 683788 entries, 0 to 683787\n",
      "Data columns (total 13 columns):\n",
      " #   Column        Non-Null Count   Dtype  \n",
      "---  ------        --------------   -----  \n",
      " 0   tree_id       683788 non-null  int64  \n",
      " 1   trunk_diam    683788 non-null  int64  \n",
      " 2   stump_diam    683788 non-null  int64  \n",
      " 3   status        683788 non-null  object \n",
      " 4   health        652172 non-null  object \n",
      " 5   spc_latin     652169 non-null  object \n",
      " 6   spc_common    652169 non-null  object \n",
      " 7   address       683788 non-null  object \n",
      " 8   zipcode       683788 non-null  int64  \n",
      " 9   boroname      683788 non-null  object \n",
      " 10  neighborhood  683788 non-null  object \n",
      " 11  latitude      683788 non-null  float64\n",
      " 12  longitude     683788 non-null  float64\n",
      "dtypes: float64(2), int64(4), object(7)\n",
      "memory usage: 67.8+ MB\n"
     ]
    }
   ],
   "source": [
    "trees.info()"
   ]
  },
  {
   "cell_type": "markdown",
   "id": "5c377460",
   "metadata": {},
   "source": [
    "datatypes look fine"
   ]
  },
  {
   "cell_type": "code",
   "execution_count": 15,
   "id": "8f6b19f4",
   "metadata": {},
   "outputs": [
    {
     "data": {
      "text/plain": [
       "stump_diam\n",
       "0    0.974182\n",
       "4    0.001413\n",
       "5    0.001373\n",
       "3    0.001139\n",
       "6    0.001103\n",
       "Name: proportion, dtype: float64"
      ]
     },
     "execution_count": 15,
     "metadata": {},
     "output_type": "execute_result"
    }
   ],
   "source": [
    "# The first five rows have 0 for stump_diam. Data dictionary says this variable only used when status is stump. How many stumps?\n",
    "\n",
    "trees['stump_diam'].value_counts(normalize=True).head()"
   ]
  },
  {
   "cell_type": "markdown",
   "id": "d6089c45",
   "metadata": {},
   "source": [
    "3% of trees are stumps. \n",
    "Should stumps count as trees?"
   ]
  },
  {
   "cell_type": "code",
   "execution_count": 16,
   "id": "c3e94635",
   "metadata": {},
   "outputs": [
    {
     "data": {
      "text/plain": [
       "status\n",
       "Alive    0.953765\n",
       "Stump    0.025818\n",
       "Dead     0.020417\n",
       "Name: proportion, dtype: float64"
      ]
     },
     "execution_count": 16,
     "metadata": {},
     "output_type": "execute_result"
    }
   ],
   "source": [
    "trees['status'].value_counts(normalize=True)"
   ]
  },
  {
   "cell_type": "markdown",
   "id": "43eb8afa",
   "metadata": {},
   "source": [
    "Might want to group stump and dead together in a new column?\n",
    "Stump might indicate neighborhood gets more attention than dead, which indicates neglect."
   ]
  },
  {
   "cell_type": "markdown",
   "id": "875b039e",
   "metadata": {},
   "source": [
    "# Looking at income, cleaning if needed"
   ]
  },
  {
   "cell_type": "code",
   "execution_count": 17,
   "id": "999c6945",
   "metadata": {},
   "outputs": [
    {
     "data": {
      "text/html": [
       "<div>\n",
       "<style scoped>\n",
       "    .dataframe tbody tr th:only-of-type {\n",
       "        vertical-align: middle;\n",
       "    }\n",
       "\n",
       "    .dataframe tbody tr th {\n",
       "        vertical-align: top;\n",
       "    }\n",
       "\n",
       "    .dataframe thead th {\n",
       "        text-align: right;\n",
       "    }\n",
       "</style>\n",
       "<table border=\"1\" class=\"dataframe\">\n",
       "  <thead>\n",
       "    <tr style=\"text-align: right;\">\n",
       "      <th></th>\n",
       "      <th>GEO_ID</th>\n",
       "      <th>zipcode</th>\n",
       "      <th>HouseholdsEstimateTotal</th>\n",
       "      <th>HouseholdsMargin of ErrorTotal</th>\n",
       "      <th>HouseholdsEstimateMedian income (dollars)</th>\n",
       "      <th>HouseholdsMargin of ErrorMedian income (dollars)</th>\n",
       "      <th>HouseholdsEstimateMean income (dollars)</th>\n",
       "      <th>HouseholdsMargin of ErrorMean income (dollars)</th>\n",
       "    </tr>\n",
       "  </thead>\n",
       "  <tbody>\n",
       "    <tr>\n",
       "      <th>0</th>\n",
       "      <td>8600000US10451</td>\n",
       "      <td>10451</td>\n",
       "      <td>18140</td>\n",
       "      <td>405</td>\n",
       "      <td>26048</td>\n",
       "      <td>2140.0</td>\n",
       "      <td>40836.0</td>\n",
       "      <td>3424.0</td>\n",
       "    </tr>\n",
       "    <tr>\n",
       "      <th>1</th>\n",
       "      <td>8600000US10452</td>\n",
       "      <td>10452</td>\n",
       "      <td>25432</td>\n",
       "      <td>368</td>\n",
       "      <td>24790</td>\n",
       "      <td>1337.0</td>\n",
       "      <td>36083.0</td>\n",
       "      <td>1578.0</td>\n",
       "    </tr>\n",
       "    <tr>\n",
       "      <th>2</th>\n",
       "      <td>8600000US10453</td>\n",
       "      <td>10453</td>\n",
       "      <td>26802</td>\n",
       "      <td>409</td>\n",
       "      <td>23095</td>\n",
       "      <td>1605.0</td>\n",
       "      <td>33354.0</td>\n",
       "      <td>1416.0</td>\n",
       "    </tr>\n",
       "    <tr>\n",
       "      <th>3</th>\n",
       "      <td>8600000US10454</td>\n",
       "      <td>10454</td>\n",
       "      <td>12790</td>\n",
       "      <td>247</td>\n",
       "      <td>20210</td>\n",
       "      <td>1930.0</td>\n",
       "      <td>31533.0</td>\n",
       "      <td>2272.0</td>\n",
       "    </tr>\n",
       "    <tr>\n",
       "      <th>4</th>\n",
       "      <td>8600000US10455</td>\n",
       "      <td>10455</td>\n",
       "      <td>14023</td>\n",
       "      <td>329</td>\n",
       "      <td>23253</td>\n",
       "      <td>1598.0</td>\n",
       "      <td>32854.0</td>\n",
       "      <td>2127.0</td>\n",
       "    </tr>\n",
       "  </tbody>\n",
       "</table>\n",
       "</div>"
      ],
      "text/plain": [
       "           GEO_ID  zipcode  HouseholdsEstimateTotal  \\\n",
       "0  8600000US10451    10451                    18140   \n",
       "1  8600000US10452    10452                    25432   \n",
       "2  8600000US10453    10453                    26802   \n",
       "3  8600000US10454    10454                    12790   \n",
       "4  8600000US10455    10455                    14023   \n",
       "\n",
       "   HouseholdsMargin of ErrorTotal HouseholdsEstimateMedian income (dollars)  \\\n",
       "0                             405                                     26048   \n",
       "1                             368                                     24790   \n",
       "2                             409                                     23095   \n",
       "3                             247                                     20210   \n",
       "4                             329                                     23253   \n",
       "\n",
       "   HouseholdsMargin of ErrorMedian income (dollars)  \\\n",
       "0                                            2140.0   \n",
       "1                                            1337.0   \n",
       "2                                            1605.0   \n",
       "3                                            1930.0   \n",
       "4                                            1598.0   \n",
       "\n",
       "   HouseholdsEstimateMean income (dollars)  \\\n",
       "0                                  40836.0   \n",
       "1                                  36083.0   \n",
       "2                                  33354.0   \n",
       "3                                  31533.0   \n",
       "4                                  32854.0   \n",
       "\n",
       "   HouseholdsMargin of ErrorMean income (dollars)  \n",
       "0                                          3424.0  \n",
       "1                                          1578.0  \n",
       "2                                          1416.0  \n",
       "3                                          2272.0  \n",
       "4                                          2127.0  "
      ]
     },
     "execution_count": 17,
     "metadata": {},
     "output_type": "execute_result"
    }
   ],
   "source": [
    "income.head()"
   ]
  },
  {
   "cell_type": "code",
   "execution_count": 18,
   "id": "63b30de7",
   "metadata": {},
   "outputs": [
    {
     "data": {
      "text/html": [
       "<div>\n",
       "<style scoped>\n",
       "    .dataframe tbody tr th:only-of-type {\n",
       "        vertical-align: middle;\n",
       "    }\n",
       "\n",
       "    .dataframe tbody tr th {\n",
       "        vertical-align: top;\n",
       "    }\n",
       "\n",
       "    .dataframe thead th {\n",
       "        text-align: right;\n",
       "    }\n",
       "</style>\n",
       "<table border=\"1\" class=\"dataframe\">\n",
       "  <thead>\n",
       "    <tr style=\"text-align: right;\">\n",
       "      <th></th>\n",
       "      <th>zipcode</th>\n",
       "      <th>num_households</th>\n",
       "      <th>median_income</th>\n",
       "      <th>mean_income</th>\n",
       "    </tr>\n",
       "  </thead>\n",
       "  <tbody>\n",
       "    <tr>\n",
       "      <th>0</th>\n",
       "      <td>10451</td>\n",
       "      <td>18140</td>\n",
       "      <td>26048</td>\n",
       "      <td>40836.0</td>\n",
       "    </tr>\n",
       "    <tr>\n",
       "      <th>1</th>\n",
       "      <td>10452</td>\n",
       "      <td>25432</td>\n",
       "      <td>24790</td>\n",
       "      <td>36083.0</td>\n",
       "    </tr>\n",
       "    <tr>\n",
       "      <th>2</th>\n",
       "      <td>10453</td>\n",
       "      <td>26802</td>\n",
       "      <td>23095</td>\n",
       "      <td>33354.0</td>\n",
       "    </tr>\n",
       "    <tr>\n",
       "      <th>3</th>\n",
       "      <td>10454</td>\n",
       "      <td>12790</td>\n",
       "      <td>20210</td>\n",
       "      <td>31533.0</td>\n",
       "    </tr>\n",
       "    <tr>\n",
       "      <th>4</th>\n",
       "      <td>10455</td>\n",
       "      <td>14023</td>\n",
       "      <td>23253</td>\n",
       "      <td>32854.0</td>\n",
       "    </tr>\n",
       "  </tbody>\n",
       "</table>\n",
       "</div>"
      ],
      "text/plain": [
       "   zipcode  num_households median_income  mean_income\n",
       "0    10451           18140         26048      40836.0\n",
       "1    10452           25432         24790      36083.0\n",
       "2    10453           26802         23095      33354.0\n",
       "3    10454           12790         20210      31533.0\n",
       "4    10455           14023         23253      32854.0"
      ]
     },
     "execution_count": 18,
     "metadata": {},
     "output_type": "execute_result"
    }
   ],
   "source": [
    "# Reducing to zip, number of households, and income only\n",
    "\n",
    "cols = ['zipcode', 'HouseholdsEstimateTotal', 'HouseholdsEstimateMedian income (dollars)','HouseholdsEstimateMean income (dollars)']\n",
    "\n",
    "income = income[cols]\n",
    "\n",
    "mapper = {\n",
    "    'HouseholdsEstimateTotal':'num_households',\n",
    "    'HouseholdsEstimateMedian income (dollars)': 'median_income',\n",
    "    'HouseholdsEstimateMean income (dollars)':'mean_income'\n",
    "}\n",
    "\n",
    "income = income.rename(columns=mapper)\n",
    "\n",
    "income.head()"
   ]
  },
  {
   "cell_type": "code",
   "execution_count": 19,
   "id": "955320c3",
   "metadata": {},
   "outputs": [
    {
     "data": {
      "text/plain": [
       "(218, 4)"
      ]
     },
     "execution_count": 19,
     "metadata": {},
     "output_type": "execute_result"
    }
   ],
   "source": [
    "income.shape"
   ]
  },
  {
   "cell_type": "code",
   "execution_count": 20,
   "id": "7e54afb6",
   "metadata": {},
   "outputs": [
    {
     "data": {
      "text/plain": [
       "216"
      ]
     },
     "execution_count": 20,
     "metadata": {},
     "output_type": "execute_result"
    }
   ],
   "source": [
    "income['zipcode'].nunique()"
   ]
  },
  {
   "cell_type": "code",
   "execution_count": 21,
   "id": "a6b4b95e",
   "metadata": {},
   "outputs": [
    {
     "data": {
      "text/html": [
       "<div>\n",
       "<style scoped>\n",
       "    .dataframe tbody tr th:only-of-type {\n",
       "        vertical-align: middle;\n",
       "    }\n",
       "\n",
       "    .dataframe tbody tr th {\n",
       "        vertical-align: top;\n",
       "    }\n",
       "\n",
       "    .dataframe thead th {\n",
       "        text-align: right;\n",
       "    }\n",
       "</style>\n",
       "<table border=\"1\" class=\"dataframe\">\n",
       "  <thead>\n",
       "    <tr style=\"text-align: right;\">\n",
       "      <th></th>\n",
       "      <th>zipcode</th>\n",
       "      <th>num_households</th>\n",
       "      <th>median_income</th>\n",
       "      <th>mean_income</th>\n",
       "    </tr>\n",
       "  </thead>\n",
       "  <tbody>\n",
       "    <tr>\n",
       "      <th>134</th>\n",
       "      <td>10463</td>\n",
       "      <td>27458</td>\n",
       "      <td>56482</td>\n",
       "      <td>80384.0</td>\n",
       "    </tr>\n",
       "    <tr>\n",
       "      <th>164</th>\n",
       "      <td>11370</td>\n",
       "      <td>8809</td>\n",
       "      <td>53427</td>\n",
       "      <td>75046.0</td>\n",
       "    </tr>\n",
       "  </tbody>\n",
       "</table>\n",
       "</div>"
      ],
      "text/plain": [
       "     zipcode  num_households median_income  mean_income\n",
       "134    10463           27458         56482      80384.0\n",
       "164    11370            8809         53427      75046.0"
      ]
     },
     "execution_count": 21,
     "metadata": {},
     "output_type": "execute_result"
    }
   ],
   "source": [
    "income[income.duplicated()]"
   ]
  },
  {
   "cell_type": "code",
   "execution_count": 22,
   "id": "8462737a",
   "metadata": {},
   "outputs": [
    {
     "data": {
      "text/plain": [
       "(216, 4)"
      ]
     },
     "execution_count": 22,
     "metadata": {},
     "output_type": "execute_result"
    }
   ],
   "source": [
    "income = income.drop_duplicates()\n",
    "income.shape"
   ]
  },
  {
   "cell_type": "code",
   "execution_count": 23,
   "id": "d9b36a13",
   "metadata": {},
   "outputs": [
    {
     "data": {
      "text/plain": [
       "191"
      ]
     },
     "execution_count": 23,
     "metadata": {},
     "output_type": "execute_result"
    }
   ],
   "source": [
    "# How many zip codes were in trees?\n",
    "\n",
    "trees['zipcode'].nunique()"
   ]
  },
  {
   "cell_type": "code",
   "execution_count": 24,
   "id": "63106759",
   "metadata": {},
   "outputs": [
    {
     "name": "stdout",
     "output_type": "stream",
     "text": [
      "<class 'pandas.core.frame.DataFrame'>\n",
      "Index: 216 entries, 0 to 217\n",
      "Data columns (total 4 columns):\n",
      " #   Column          Non-Null Count  Dtype  \n",
      "---  ------          --------------  -----  \n",
      " 0   zipcode         216 non-null    int64  \n",
      " 1   num_households  216 non-null    int64  \n",
      " 2   median_income   184 non-null    object \n",
      " 3   mean_income     184 non-null    float64\n",
      "dtypes: float64(1), int64(2), object(1)\n",
      "memory usage: 8.4+ KB\n"
     ]
    }
   ],
   "source": [
    "income.info()"
   ]
  },
  {
   "cell_type": "code",
   "execution_count": 25,
   "id": "a77aa5bf",
   "metadata": {},
   "outputs": [],
   "source": [
    "income = income.dropna()"
   ]
  },
  {
   "cell_type": "code",
   "execution_count": 26,
   "id": "acc20d68",
   "metadata": {},
   "outputs": [],
   "source": [
    "income['median_income'] = income['median_income'].str.replace(',','')"
   ]
  },
  {
   "cell_type": "code",
   "execution_count": 27,
   "id": "fb454e8f",
   "metadata": {},
   "outputs": [],
   "source": [
    "income['median_income'] = income['median_income'].astype('int64')\n",
    "income['mean_income'] = income['mean_income'].astype('int64')"
   ]
  },
  {
   "cell_type": "markdown",
   "id": "3d44d456",
   "metadata": {},
   "source": [
    "Group trees by zip and save as new dataframe, merge with zip"
   ]
  },
  {
   "cell_type": "markdown",
   "id": "ec926f13",
   "metadata": {},
   "source": [
    "# Investigating species table"
   ]
  },
  {
   "cell_type": "code",
   "execution_count": 28,
   "id": "c88e3849",
   "metadata": {},
   "outputs": [
    {
     "data": {
      "text/html": [
       "<div>\n",
       "<style scoped>\n",
       "    .dataframe tbody tr th:only-of-type {\n",
       "        vertical-align: middle;\n",
       "    }\n",
       "\n",
       "    .dataframe tbody tr th {\n",
       "        vertical-align: top;\n",
       "    }\n",
       "\n",
       "    .dataframe thead th {\n",
       "        text-align: right;\n",
       "    }\n",
       "</style>\n",
       "<table border=\"1\" class=\"dataframe\">\n",
       "  <thead>\n",
       "    <tr style=\"text-align: right;\">\n",
       "      <th></th>\n",
       "      <th>Scientific name</th>\n",
       "      <th>Common name</th>\n",
       "      <th>Photo</th>\n",
       "      <th>Size</th>\n",
       "      <th>Native Species</th>\n",
       "      <th>Planted in NYC streets</th>\n",
       "      <th>Edible fruit</th>\n",
       "    </tr>\n",
       "  </thead>\n",
       "  <tbody>\n",
       "    <tr>\n",
       "      <th>0</th>\n",
       "      <td>Acer platanoides</td>\n",
       "      <td>Norway maple</td>\n",
       "      <td>NaN</td>\n",
       "      <td>Large</td>\n",
       "      <td>Non-Native, Invasive[6]</td>\n",
       "      <td>Yes, Approved</td>\n",
       "      <td>No</td>\n",
       "    </tr>\n",
       "    <tr>\n",
       "      <th>1</th>\n",
       "      <td>Acer rubrum</td>\n",
       "      <td>Red maple</td>\n",
       "      <td>NaN</td>\n",
       "      <td>Large</td>\n",
       "      <td>Native</td>\n",
       "      <td>Yes</td>\n",
       "      <td>NaN</td>\n",
       "    </tr>\n",
       "    <tr>\n",
       "      <th>2</th>\n",
       "      <td>Acer saccharinum</td>\n",
       "      <td>Silver maple</td>\n",
       "      <td>NaN</td>\n",
       "      <td>Large</td>\n",
       "      <td>Native</td>\n",
       "      <td>Yes</td>\n",
       "      <td>NaN</td>\n",
       "    </tr>\n",
       "    <tr>\n",
       "      <th>3</th>\n",
       "      <td>Aesculus hippocastanum</td>\n",
       "      <td>Horse-chestnut</td>\n",
       "      <td>NaN</td>\n",
       "      <td>Large</td>\n",
       "      <td>Non-Native</td>\n",
       "      <td>Yes</td>\n",
       "      <td>NaN</td>\n",
       "    </tr>\n",
       "    <tr>\n",
       "      <th>4</th>\n",
       "      <td>Aesculus octandra</td>\n",
       "      <td>Common buckeye</td>\n",
       "      <td>NaN</td>\n",
       "      <td>Large</td>\n",
       "      <td>Native</td>\n",
       "      <td>Yes</td>\n",
       "      <td>NaN</td>\n",
       "    </tr>\n",
       "  </tbody>\n",
       "</table>\n",
       "</div>"
      ],
      "text/plain": [
       "          Scientific name     Common name  Photo   Size  \\\n",
       "0        Acer platanoides    Norway maple    NaN  Large   \n",
       "1             Acer rubrum       Red maple    NaN  Large   \n",
       "2        Acer saccharinum    Silver maple    NaN  Large   \n",
       "3  Aesculus hippocastanum  Horse-chestnut    NaN  Large   \n",
       "4       Aesculus octandra  Common buckeye    NaN  Large   \n",
       "\n",
       "            Native Species Planted in NYC streets Edible fruit  \n",
       "0  Non-Native, Invasive[6]          Yes, Approved           No  \n",
       "1                   Native                    Yes          NaN  \n",
       "2                   Native                    Yes          NaN  \n",
       "3               Non-Native                    Yes          NaN  \n",
       "4                   Native                    Yes          NaN  "
      ]
     },
     "execution_count": 28,
     "metadata": {},
     "output_type": "execute_result"
    }
   ],
   "source": [
    "species.head()"
   ]
  },
  {
   "cell_type": "code",
   "execution_count": 29,
   "id": "75937295",
   "metadata": {},
   "outputs": [
    {
     "data": {
      "text/plain": [
       "Common name\n",
       "Cherry              3\n",
       "Norway maple        1\n",
       "Silver maple        1\n",
       "Red maple           1\n",
       "Common buckeye      1\n",
       "                   ..\n",
       "American elm        1\n",
       "Camperdown elm      1\n",
       "Chinese elm         1\n",
       "English elm         1\n",
       "Japanese zelkova    1\n",
       "Name: count, Length: 100, dtype: int64"
      ]
     },
     "execution_count": 29,
     "metadata": {},
     "output_type": "execute_result"
    }
   ],
   "source": [
    "species['Common name'].value_counts()"
   ]
  },
  {
   "cell_type": "code",
   "execution_count": 30,
   "id": "4386f084",
   "metadata": {},
   "outputs": [
    {
     "data": {
      "text/plain": [
       "Native Species\n",
       "Non-Native                  28\n",
       "Native                      13\n",
       "Non-Native, Not Invasive     3\n",
       "Non-Native, Invasive[6]      2\n",
       "Name: count, dtype: int64"
      ]
     },
     "execution_count": 30,
     "metadata": {},
     "output_type": "execute_result"
    }
   ],
   "source": [
    "species['Native Species'].value_counts()"
   ]
  },
  {
   "cell_type": "code",
   "execution_count": 31,
   "id": "6c3ef3ea",
   "metadata": {},
   "outputs": [
    {
     "data": {
      "text/plain": [
       "Planted in NYC streets\n",
       "Yes                  9\n",
       "No, Not Approved     4\n",
       "Yes, Approved        1\n",
       "Yes, Not Approved    1\n",
       "Name: count, dtype: int64"
      ]
     },
     "execution_count": 31,
     "metadata": {},
     "output_type": "execute_result"
    }
   ],
   "source": [
    "species['Planted in NYC streets'].value_counts()"
   ]
  },
  {
   "cell_type": "markdown",
   "id": "c6a48fcc",
   "metadata": {},
   "source": [
    "May want to investigate native/invasive and planted in NYC against income.\n",
    "May also want to investigate species planted vs. income--are certain species often planted in certain neighborhoods?"
   ]
  },
  {
   "cell_type": "markdown",
   "id": "5b257eee",
   "metadata": {},
   "source": [
    "# EDA on trees"
   ]
  },
  {
   "cell_type": "code",
   "execution_count": 32,
   "id": "18d72a0a",
   "metadata": {},
   "outputs": [
    {
     "name": "stdout",
     "output_type": "stream",
     "text": [
      "<class 'pandas.core.frame.DataFrame'>\n",
      "RangeIndex: 683788 entries, 0 to 683787\n",
      "Data columns (total 13 columns):\n",
      " #   Column        Non-Null Count   Dtype  \n",
      "---  ------        --------------   -----  \n",
      " 0   tree_id       683788 non-null  int64  \n",
      " 1   trunk_diam    683788 non-null  int64  \n",
      " 2   stump_diam    683788 non-null  int64  \n",
      " 3   status        683788 non-null  object \n",
      " 4   health        652172 non-null  object \n",
      " 5   spc_latin     652169 non-null  object \n",
      " 6   spc_common    652169 non-null  object \n",
      " 7   address       683788 non-null  object \n",
      " 8   zipcode       683788 non-null  int64  \n",
      " 9   boroname      683788 non-null  object \n",
      " 10  neighborhood  683788 non-null  object \n",
      " 11  latitude      683788 non-null  float64\n",
      " 12  longitude     683788 non-null  float64\n",
      "dtypes: float64(2), int64(4), object(7)\n",
      "memory usage: 67.8+ MB\n"
     ]
    }
   ],
   "source": [
    "trees.info()"
   ]
  },
  {
   "cell_type": "code",
   "execution_count": null,
   "id": "33d9e048",
   "metadata": {},
   "outputs": [
    {
     "data": {
      "text/plain": [
       "borough\n",
       "Bronx             28238967369\n",
       "Brooklyn          64248662833\n",
       "Manhattan         13537212810\n",
       "Queens           105008141453\n",
       "Staten Island     38689819655\n",
       "Name: tree_id, dtype: int64"
      ]
     },
     "execution_count": 34,
     "metadata": {},
     "output_type": "execute_result"
    }
   ],
   "source": [
    "trees.groupby('borough')['tree_id'].sum()"
   ]
  },
  {
   "cell_type": "markdown",
   "id": "b8ea79b0",
   "metadata": {},
   "source": [
    "Queens has the most trees"
   ]
  },
  {
   "cell_type": "code",
   "execution_count": 35,
   "id": "e0c68849",
   "metadata": {},
   "outputs": [
    {
     "data": {
      "text/plain": [
       "borough\n",
       "Bronx             9.693649\n",
       "Brooklyn         11.738884\n",
       "Manhattan         8.473641\n",
       "Queens           12.557870\n",
       "Staten Island    10.492746\n",
       "Name: trunk_diam, dtype: float64"
      ]
     },
     "execution_count": 35,
     "metadata": {},
     "output_type": "execute_result"
    }
   ],
   "source": [
    "trees.groupby('borough')['trunk_diam'].mean()"
   ]
  },
  {
   "cell_type": "markdown",
   "id": "8b7f8166",
   "metadata": {},
   "source": [
    "Queens has the biggest trees"
   ]
  },
  {
   "cell_type": "code",
   "execution_count": 36,
   "id": "a75b9ea0",
   "metadata": {},
   "outputs": [
    {
     "data": {
      "text/html": [
       "<div>\n",
       "<style scoped>\n",
       "    .dataframe tbody tr th:only-of-type {\n",
       "        vertical-align: middle;\n",
       "    }\n",
       "\n",
       "    .dataframe tbody tr th {\n",
       "        vertical-align: top;\n",
       "    }\n",
       "\n",
       "    .dataframe thead th {\n",
       "        text-align: right;\n",
       "    }\n",
       "</style>\n",
       "<table border=\"1\" class=\"dataframe\">\n",
       "  <thead>\n",
       "    <tr style=\"text-align: right;\">\n",
       "      <th></th>\n",
       "      <th>tree_id</th>\n",
       "      <th>trunk_diam</th>\n",
       "      <th>stump_diam</th>\n",
       "      <th>status</th>\n",
       "      <th>health</th>\n",
       "      <th>spc_latin</th>\n",
       "      <th>spc_common</th>\n",
       "      <th>address</th>\n",
       "      <th>zipcode</th>\n",
       "      <th>borough</th>\n",
       "      <th>neighborhood</th>\n",
       "      <th>latitude</th>\n",
       "      <th>longitude</th>\n",
       "    </tr>\n",
       "  </thead>\n",
       "  <tbody>\n",
       "    <tr>\n",
       "      <th>0</th>\n",
       "      <td>180683</td>\n",
       "      <td>3</td>\n",
       "      <td>0</td>\n",
       "      <td>Alive</td>\n",
       "      <td>Fair</td>\n",
       "      <td>Acer rubrum</td>\n",
       "      <td>red maple</td>\n",
       "      <td>108-005 70 AVENUE</td>\n",
       "      <td>11375</td>\n",
       "      <td>Queens</td>\n",
       "      <td>Forest Hills</td>\n",
       "      <td>40.723092</td>\n",
       "      <td>-73.844215</td>\n",
       "    </tr>\n",
       "    <tr>\n",
       "      <th>1</th>\n",
       "      <td>200540</td>\n",
       "      <td>21</td>\n",
       "      <td>0</td>\n",
       "      <td>Alive</td>\n",
       "      <td>Fair</td>\n",
       "      <td>Quercus palustris</td>\n",
       "      <td>pin oak</td>\n",
       "      <td>147-074 7 AVENUE</td>\n",
       "      <td>11357</td>\n",
       "      <td>Queens</td>\n",
       "      <td>Whitestone</td>\n",
       "      <td>40.794111</td>\n",
       "      <td>-73.818679</td>\n",
       "    </tr>\n",
       "    <tr>\n",
       "      <th>2</th>\n",
       "      <td>204026</td>\n",
       "      <td>3</td>\n",
       "      <td>0</td>\n",
       "      <td>Alive</td>\n",
       "      <td>Good</td>\n",
       "      <td>Gleditsia triacanthos var. inermis</td>\n",
       "      <td>honeylocust</td>\n",
       "      <td>390 MORGAN AVENUE</td>\n",
       "      <td>11211</td>\n",
       "      <td>Brooklyn</td>\n",
       "      <td>East Williamsburg</td>\n",
       "      <td>40.717581</td>\n",
       "      <td>-73.936608</td>\n",
       "    </tr>\n",
       "    <tr>\n",
       "      <th>3</th>\n",
       "      <td>204337</td>\n",
       "      <td>10</td>\n",
       "      <td>0</td>\n",
       "      <td>Alive</td>\n",
       "      <td>Good</td>\n",
       "      <td>Gleditsia triacanthos var. inermis</td>\n",
       "      <td>honeylocust</td>\n",
       "      <td>1027 GRAND STREET</td>\n",
       "      <td>11211</td>\n",
       "      <td>Brooklyn</td>\n",
       "      <td>East Williamsburg</td>\n",
       "      <td>40.713537</td>\n",
       "      <td>-73.934456</td>\n",
       "    </tr>\n",
       "    <tr>\n",
       "      <th>4</th>\n",
       "      <td>189565</td>\n",
       "      <td>21</td>\n",
       "      <td>0</td>\n",
       "      <td>Alive</td>\n",
       "      <td>Good</td>\n",
       "      <td>Tilia americana</td>\n",
       "      <td>American linden</td>\n",
       "      <td>603 6 STREET</td>\n",
       "      <td>11215</td>\n",
       "      <td>Brooklyn</td>\n",
       "      <td>Park Slope-Gowanus</td>\n",
       "      <td>40.666778</td>\n",
       "      <td>-73.975979</td>\n",
       "    </tr>\n",
       "  </tbody>\n",
       "</table>\n",
       "</div>"
      ],
      "text/plain": [
       "   tree_id  trunk_diam  stump_diam status health  \\\n",
       "0   180683           3           0  Alive   Fair   \n",
       "1   200540          21           0  Alive   Fair   \n",
       "2   204026           3           0  Alive   Good   \n",
       "3   204337          10           0  Alive   Good   \n",
       "4   189565          21           0  Alive   Good   \n",
       "\n",
       "                            spc_latin       spc_common            address  \\\n",
       "0                         Acer rubrum        red maple  108-005 70 AVENUE   \n",
       "1                   Quercus palustris          pin oak   147-074 7 AVENUE   \n",
       "2  Gleditsia triacanthos var. inermis      honeylocust  390 MORGAN AVENUE   \n",
       "3  Gleditsia triacanthos var. inermis      honeylocust  1027 GRAND STREET   \n",
       "4                     Tilia americana  American linden       603 6 STREET   \n",
       "\n",
       "   zipcode   borough        neighborhood   latitude  longitude  \n",
       "0    11375    Queens        Forest Hills  40.723092 -73.844215  \n",
       "1    11357    Queens          Whitestone  40.794111 -73.818679  \n",
       "2    11211  Brooklyn   East Williamsburg  40.717581 -73.936608  \n",
       "3    11211  Brooklyn   East Williamsburg  40.713537 -73.934456  \n",
       "4    11215  Brooklyn  Park Slope-Gowanus  40.666778 -73.975979  "
      ]
     },
     "execution_count": 36,
     "metadata": {},
     "output_type": "execute_result"
    }
   ],
   "source": [
    "trees.head()"
   ]
  },
  {
   "cell_type": "code",
   "execution_count": 43,
   "id": "391feae9",
   "metadata": {},
   "outputs": [
    {
     "data": {
      "text/plain": [
       "borough        health\n",
       "Bronx          Fair       3412555585\n",
       "               Good      22353085313\n",
       "               Poor        971780285\n",
       "Brooklyn       Fair       7420972956\n",
       "               Good      52140265358\n",
       "               Poor       1955849892\n",
       "Manhattan      Fair       2175545326\n",
       "               Good      10027181604\n",
       "               Poor        730880445\n",
       "Queens         Fair      12050536439\n",
       "               Good      84740876450\n",
       "               Poor       3198738582\n",
       "Staten Island  Fair       4999333720\n",
       "               Good      30736493408\n",
       "               Poor       1578567540\n",
       "Name: tree_id, dtype: int64"
      ]
     },
     "execution_count": 43,
     "metadata": {},
     "output_type": "execute_result"
    }
   ],
   "source": [
    "health_borough = trees.groupby(['borough','health'])['tree_id'].sum()\n",
    "\n",
    "health_borough"
   ]
  },
  {
   "cell_type": "markdown",
   "id": "81cb9be2",
   "metadata": {},
   "source": [
    "Which borough has the healthiest trees?"
   ]
  },
  {
   "cell_type": "code",
   "execution_count": 44,
   "id": "26b5cf93",
   "metadata": {},
   "outputs": [
    {
     "data": {
      "text/plain": [
       "borough        status\n",
       "Bronx          Alive     26737421183\n",
       "               Dead        795811480\n",
       "               Stump       705734706\n",
       "Brooklyn       Alive     61517088206\n",
       "               Dead       1154323126\n",
       "               Stump      1577251501\n",
       "Manhattan      Alive     12933607375\n",
       "               Dead        338080027\n",
       "               Stump       265525408\n",
       "Queens         Alive     99990151471\n",
       "               Dead       1787491472\n",
       "               Stump      3230498510\n",
       "Staten Island  Alive     37314639709\n",
       "               Dead        667604094\n",
       "               Stump       707575852\n",
       "Name: tree_id, dtype: int64"
      ]
     },
     "execution_count": 44,
     "metadata": {},
     "output_type": "execute_result"
    }
   ],
   "source": [
    "status_borough = trees.groupby(['borough','status'])['tree_id'].sum()\n",
    "\n",
    "status_borough"
   ]
  },
  {
   "cell_type": "markdown",
   "id": "45e200f6",
   "metadata": {},
   "source": [
    "How do the status and health columns interrelate?\n",
    "Ratios of alive to dead, alive to stump, dead to stump"
   ]
  }
 ],
 "metadata": {
  "kernelspec": {
   "display_name": "Python 3",
   "language": "python",
   "name": "python3"
  },
  "language_info": {
   "codemirror_mode": {
    "name": "ipython",
    "version": 3
   },
   "file_extension": ".py",
   "mimetype": "text/x-python",
   "name": "python",
   "nbconvert_exporter": "python",
   "pygments_lexer": "ipython3",
   "version": "3.11.4"
  }
 },
 "nbformat": 4,
 "nbformat_minor": 5
}
